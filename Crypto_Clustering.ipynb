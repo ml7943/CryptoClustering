{
 "cells": [
  {
   "cell_type": "code",
   "execution_count": null,
   "metadata": {},
   "outputs": [],
   "source": [
    "# Import required libraries and dependencies\n",
    "import pandas as pd\n",
    "import hvplot.pandas\n",
    "from sklearn.cluster import KMeans\n",
    "from sklearn.decomposition import PCA\n",
    "from sklearn.preprocessing import StandardScaler"
   ]
  },
  {
   "cell_type": "code",
   "execution_count": null,
   "metadata": {},
   "outputs": [],
   "source": [
    "# Load the data into a Pandas DataFrame\n",
    "df_market_data = pd.read_csv(\n",
    "    \"Resources/crypto_market_data.csv\",\n",
    "    index_col=\"coin_id\")\n",
    "\n",
    "# Display sample data\n",
    "df_market_data.head(10)"
   ]
  },
  {
   "cell_type": "code",
   "execution_count": null,
   "metadata": {},
   "outputs": [],
   "source": [
    "# Generate summary statistics\n",
    "df_market_data.describe()"
   ]
  },
  {
   "cell_type": "code",
   "execution_count": null,
   "metadata": {},
   "outputs": [],
   "source": [
    "# Plot your data to see what's in your DataFrame\n",
    "df_market_data.hvplot.line(\n",
    "    width=800,\n",
    "    height=400,\n",
    "    rot=90\n",
    ")"
   ]
  },
  {
   "cell_type": "markdown",
   "metadata": {},
   "source": [
    "---"
   ]
  },
  {
   "cell_type": "markdown",
   "metadata": {},
   "source": [
    "### Prepare the Data"
   ]
  },
  {
   "cell_type": "code",
   "execution_count": null,
   "metadata": {},
   "outputs": [],
   "source": [
    "# Use the `StandardScaler()` module from scikit-learn to normalize the data from the CSV file\n",
    "from sklearn.preprocessing import StandardScaler"
   ]
  },
  {
   "cell_type": "code",
   "execution_count": null,
   "metadata": {},
   "outputs": [],
   "source": [
    "# Create a DataFrame with the scaled data\n",
    "scaler = StandardScaler()\n",
    "df_market_data_scaled = scaler.fit_transform(df_market_data)\n",
    "\n",
    "# Copy the crypto names from the original data\n",
    "crypto_names = df_market_data.index.tolist()\n",
    "\n",
    "# Set the coinid column as index\n",
    "df_market_data_scaled = pd.DataFrame(df_market_data_scaled, columns=df_market_data.columns, index=crypto_names)\n",
    "\n",
    "# Display sample data\n",
    "df_market_data_scaled.head(10)"
   ]
  },
  {
   "cell_type": "markdown",
   "metadata": {},
   "source": [
    "---"
   ]
  },
  {
   "cell_type": "markdown",
   "metadata": {},
   "source": [
    "### Find the Best Value for k Using the Original Data."
   ]
  },
  {
   "cell_type": "code",
   "execution_count": null,
   "metadata": {},
   "outputs": [],
   "source": [
    "# Create a list with the number of k-values from 1 to 11\n",
    "k_values = list(range(1, 12))"
   ]
  },
  {
   "cell_type": "code",
   "execution_count": null,
   "metadata": {},
   "outputs": [],
   "source": [
    "# Create an empty list to store the inertia values\n",
    "inertia_values = []\n",
    "\n",
    "# Create a for loop to compute the inertia with each possible value of k\n",
    "# Inside the loop:\n",
    "# 1. Create a KMeans model using the loop counter for the n_clusters\n",
    "# 2. Fit the model to the data using `df_market_data_scaled`\n",
    "# 3. Append the model.inertia_ to the inertia list\n",
    "\n",
    "for k in k_values:\n",
    "    # Create a KMeans model using the loop counter for the n_clusters\n",
    "    kmeans = KMeans(n_clusters=k)\n",
    "    \n",
    "    # Fit the model to the scaled data\n",
    "    kmeans.fit(df_market_data_scaled)\n",
    "    \n",
    "    # Append the model.inertia_ to the inertia list\n",
    "    inertia_values.append(kmeans.inertia_)"
   ]
  },
  {
   "cell_type": "code",
   "execution_count": null,
   "metadata": {},
   "outputs": [],
   "source": [
    "# Create a dictionary with the data to plot the Elbow curve\n",
    "elbow_data = {'k_values': k_values, 'inertia_values': inertia_values}\n",
    "\n",
    "# Create a DataFrame with the data to plot the Elbow curve\n",
    "df_elbow = pd.DataFrame(elbow_data)"
   ]
  },
  {
   "cell_type": "code",
   "execution_count": null,
   "metadata": {},
   "outputs": [],
   "source": [
    "# Plot a line chart with all the inertia values computed with \n",
    "# the different values of k to visually identify the optimal value for k.\n",
    "plt.figure(figsize=(8, 6))\n",
    "plt.plot(k_values, inertia_values, marker='o', linestyle='-', color='b')\n",
    "plt.xlabel('Number of clusters (k)')\n",
    "plt.ylabel('Inertia')\n",
    "plt.title('Elbow Method')\n",
    "plt.grid(True)\n",
    "plt.show()"
   ]
  },
  {
   "cell_type": "markdown",
   "metadata": {},
   "source": [
    "#### Answer the following question: \n",
    "\n",
    "**Question:** What is the best value for `k`?\n",
    "\n",
    "**Answer:** \n",
    "\n",
    "Because I has a module installing and importing issue: \"ValueError: ClassSelector parameter None value must be an instance of (function, tuple), not <function size at 0x7f8d287d9830>.\"\n",
    "\n",
    "I assume the results based on my previous knowledge and what I learned: the best value for k is 3.\n",
    "\n",
    "The way to decide the best value is based on the elbow plot, which visually displays the relationship between the number of clusters (k) and the within-cluster sum of squares (inertia). The optimal value for k is often identified at the 'elbow' point on the plot, representing a point where adding more clusters provides diminishing returns in reducing inertia, thus striking a balance between model complexity and explanatory power."
   ]
  },
  {
   "cell_type": "markdown",
   "metadata": {},
   "source": [
    "---"
   ]
  },
  {
   "cell_type": "markdown",
   "metadata": {},
   "source": [
    "### Cluster Cryptocurrencies with K-means Using the Original Data"
   ]
  },
  {
   "cell_type": "code",
   "execution_count": null,
   "metadata": {},
   "outputs": [],
   "source": [
    "# Initialize the K-Means model using the best value for k\n",
    "best_k = 3\n",
    "kmeans = KMeans(n_clusters=best_k, random_state=42)"
   ]
  },
  {
   "cell_type": "code",
   "execution_count": null,
   "metadata": {},
   "outputs": [],
   "source": [
    "# Fit the K-Means model using the scaled data\n",
    "kmeans.fit(df_market_data_scaled)"
   ]
  },
  {
   "cell_type": "code",
   "execution_count": null,
   "metadata": {},
   "outputs": [],
   "source": [
    "# Predict the clusters to group the cryptocurrencies using the scaled data\n",
    "clusters = kmeans.predict(df_market_data_scaled)\n",
    "\n",
    "# Print the resulting array of cluster values.\n",
    "print(clusters)"
   ]
  },
  {
   "cell_type": "code",
   "execution_count": null,
   "metadata": {},
   "outputs": [],
   "source": [
    "# Create a copy of the DataFrame\n",
    "df_market_data_copy = df_market_data.copy()"
   ]
  },
  {
   "cell_type": "code",
   "execution_count": null,
   "metadata": {},
   "outputs": [],
   "source": [
    "# Add a new column to the DataFrame with the predicted clusters\n",
    "df_market_data_copy['Cluster'] = clusters\n",
    "\n",
    "# Display sample data\n",
    "df_market_data_copy.head(10)"
   ]
  },
  {
   "cell_type": "code",
   "execution_count": null,
   "metadata": {},
   "outputs": [],
   "source": [
    "# Create a scatter plot using hvPlot by setting \n",
    "# `x=\"price_change_percentage_24h\"` and `y=\"price_change_percentage_7d\"`. \n",
    "# Color the graph points with the labels found using K-Means and \n",
    "# add the crypto name in the `hover_cols` parameter to identify \n",
    "# the cryptocurrency represented by each data point.\n",
    "df_market_data_copy.hvplot.scatter(\n",
    "    x='price_change_percentage_24h',\n",
    "    y='price_change_percentage_7d',\n",
    "    by='Cluster',\n",
    "    hover_cols=['coin_id'],\n",
    "    title='Cryptocurrency Clusters (K-Means)',\n",
    "    xlabel='Price Change Percentage (24h)',\n",
    "    ylabel='Price Change Percentage (7d)',\n",
    "    width=800,\n",
    "    height=500\n",
    ")"
   ]
  },
  {
   "cell_type": "markdown",
   "metadata": {},
   "source": [
    "---"
   ]
  },
  {
   "cell_type": "markdown",
   "metadata": {},
   "source": [
    "### Optimize Clusters with Principal Component Analysis."
   ]
  },
  {
   "cell_type": "code",
   "execution_count": null,
   "metadata": {},
   "outputs": [],
   "source": [
    "# Create a PCA model instance and set `n_components=3`.\n",
    "pca = PCA(n_components=3)"
   ]
  },
  {
   "cell_type": "code",
   "execution_count": null,
   "metadata": {},
   "outputs": [],
   "source": [
    "# Use the PCA model with `fit_transform` to reduce to \n",
    "# three principal components.\n",
    "pca_data = pca.fit_transform(df_market_data_scaled)\n",
    "# Create a DataFrame with the PCA data\n",
    "pca_columns = ['PC1', 'PC2', 'PC3']  # Naming the three principal components\n",
    "df_pca = pd.DataFrame(data=pca_data, columns=pca_columns, index=df_market_data.index)\n",
    "\n",
    "# View the first five rows of the DataFrame. \n",
    "df_pca.head(5)"
   ]
  },
  {
   "cell_type": "code",
   "execution_count": null,
   "metadata": {},
   "outputs": [],
   "source": [
    "# Retrieve the explained variance to determine how much information \n",
    "# can be attributed to each principal component.\n",
    "explained_variance = pca.explained_variance_ratio_\n",
    "total_variance = sum(explained_variance)\n",
    "\n",
    "print(\"Explained Variance of each component:\", explained_variance)\n",
    "print(\"Total Explained Variance of the three principal components:\", total_variance)\n",
    "\n",
    "# Set the \"coin_id\" index from the original DataFrame as the index for the new PCA DataFrame\n",
    "df_pca.index.name = 'coin_id'\n",
    "\n",
    "# Display the first five rows of the PCA DataFrame\n",
    "print(df_pca.head())"
   ]
  },
  {
   "cell_type": "markdown",
   "metadata": {},
   "source": [
    "#### Answer the following question: \n",
    "\n",
    "**Question:** What is the total explained variance of the three principal components?\n",
    "\n",
    "**Answer:** \n",
    "Because I has a module installing and importing issue: \"ValueError: ClassSelector parameter None value must be an instance of (function, tuple), not <function size at 0x7f8d287d9830>.\"\n",
    "\n",
    "I assume the results based on my previous knowledge and what I learned: the total explained variance is about 0.73."
   ]
  },
  {
   "cell_type": "code",
   "execution_count": null,
   "metadata": {},
   "outputs": [],
   "source": [
    "# Create a PCA model instance and set `n_components=3`\n",
    "pca = PCA(n_components=3)\n",
    "\n",
    "# Use the PCA model with `fit_transform` to reduce to three principal components\n",
    "pca_data = pca.fit_transform(df_market_data_scaled)\n",
    "\n",
    "# Create a DataFrame with the PCA data\n",
    "pca_columns = ['PC1', 'PC2', 'PC3']  # Naming the three principal components\n",
    "df_pca = pd.DataFrame(data=pca_data, columns=pca_columns, index=df_market_data.index)\n",
    "\n",
    "# Copy the crypto names from the original data\n",
    "crypto_names = df_market_data.index.tolist()\n",
    "\n",
    "# Set the coinid column as index\n",
    "df_pca.index.name = 'coin_id'\n",
    "\n",
    "# Display sample data (first few rows) of the PCA DataFrame\n",
    "df_pca.head(5)"
   ]
  },
  {
   "cell_type": "markdown",
   "metadata": {},
   "source": [
    "---"
   ]
  },
  {
   "cell_type": "markdown",
   "metadata": {},
   "source": [
    "### Find the Best Value for k Using the PCA Data"
   ]
  },
  {
   "cell_type": "code",
   "execution_count": null,
   "metadata": {},
   "outputs": [],
   "source": [
    "# Create a list with the number of k-values from 1 to 11\n",
    "k_values = list(range(1, 12))"
   ]
  },
  {
   "cell_type": "code",
   "execution_count": null,
   "metadata": {},
   "outputs": [],
   "source": [
    "# Create an empty list to store the inertia values\n",
    "inertia_values = []\n",
    "\n",
    "# Create a for loop to compute the inertia with each possible value of k\n",
    "# Inside the loop:\n",
    "# 1. Create a KMeans model using the loop counter for the n_clusters\n",
    "# 2. Fit the model to the data using `df_market_data_pca`\n",
    "# 3. Append the model.inertia_ to the inertia list\n",
    "for k in k_values:\n",
    "    # Create a KMeans model using the loop counter for the n_clusters\n",
    "    kmeans = KMeans(n_clusters=k)\n",
    "    \n",
    "    # Fit the model to the PCA-transformed data\n",
    "    kmeans.fit(df_market_data_pca)\n",
    "    \n",
    "    # Append the model.inertia_ to the inertia list\n",
    "    inertia_values.append(kmeans.inertia_)"
   ]
  },
  {
   "cell_type": "code",
   "execution_count": null,
   "metadata": {},
   "outputs": [],
   "source": [
    "# Create a dictionary with the data to plot the Elbow curve\n",
    "elbow_data = {'k_values': k_values, 'inertia_values': inertia_values}\n",
    "\n",
    "# Create a DataFrame with the data to plot the Elbow curve\n",
    "df_elbow = pd.DataFrame(elbow_data)"
   ]
  },
  {
   "cell_type": "code",
   "execution_count": null,
   "metadata": {},
   "outputs": [],
   "source": [
    "# Plot a line chart with all the inertia values computed with \n",
    "# the different values of k to visually identify the optimal value for k.\n",
    "plt.figure(figsize=(8, 6))\n",
    "plt.plot(k_values, inertia_values, marker='o', linestyle='-', color='b')\n",
    "plt.xlabel('Number of clusters (k)')\n",
    "plt.ylabel('Inertia')\n",
    "plt.title('Elbow Method for PCA Data')\n",
    "plt.grid(True)\n",
    "plt.show()"
   ]
  },
  {
   "cell_type": "markdown",
   "metadata": {},
   "source": [
    "#### Answer the following questions: \n",
    "\n",
    "* **Question:** What is the best value for `k` when using the PCA data?\n",
    "\n",
    "  * **Answer:**\n",
    "  \n",
    "  Because I has a module installing and importing issue: \"ValueError: ClassSelector parameter None value must be an instance of (function, tuple), not <function size at 0x7f8d287d9830>.\"\n",
    "\n",
    "    I assume the results based on my previous knowledge and what I learned: the best value for k is 5.\n",
    "\n",
    "\n",
    "* **Question:** Does it differ from the best k value found using the original data?\n",
    "\n",
    "  * **Answer:** \n",
    "  \n",
    "  I assume: yes"
   ]
  },
  {
   "cell_type": "markdown",
   "metadata": {},
   "source": [
    "### Cluster Cryptocurrencies with K-means Using the PCA Data"
   ]
  },
  {
   "cell_type": "code",
   "execution_count": null,
   "metadata": {},
   "outputs": [],
   "source": [
    "# Initialize the K-Means model using the best value for k\n",
    "kmeans = KMeans(n_clusters=best_k)"
   ]
  },
  {
   "cell_type": "code",
   "execution_count": null,
   "metadata": {},
   "outputs": [],
   "source": [
    "# Fit the K-Means model using the PCA data\n",
    "kmeans.fit(df_market_data_pca)"
   ]
  },
  {
   "cell_type": "code",
   "execution_count": null,
   "metadata": {},
   "outputs": [],
   "source": [
    "# Predict the clusters to group the cryptocurrencies using the PCA data\n",
    "pca_clusters = kmeans.predict(df_market_data_pca)\n",
    "\n",
    "# Print the resulting array of cluster values.\n",
    "print(pca_clusters)"
   ]
  },
  {
   "cell_type": "code",
   "execution_count": null,
   "metadata": {},
   "outputs": [],
   "source": [
    "# Create a copy of the DataFrame with the PCA data\n",
    "df_market_data_pca_copy = df_market_data_pca.copy()\n",
    "\n",
    "# Add a new column to the DataFrame with the predicted clusters\n",
    "df_market_data_pca_copy['Cluster'] = pca_clusters\n",
    "\n",
    "# Display sample data\n",
    "df_market_data_pca_copy.head(10)"
   ]
  },
  {
   "cell_type": "code",
   "execution_count": null,
   "metadata": {},
   "outputs": [],
   "source": [
    "# Create a scatter plot using hvPlot by setting \n",
    "# `x=\"PC1\"` and `y=\"PC2\"`. \n",
    "# Color the graph points with the labels found using K-Means and \n",
    "# add the crypto name in the `hover_cols` parameter to identify \n",
    "# the cryptocurrency represented by each data point.\n",
    "df_market_data_pca_copy.hvplot.scatter(\n",
    "    x='PC1',\n",
    "    y='PC2',\n",
    "    by='Cluster',\n",
    "    hover_cols=['coin_id'],\n",
    "    title='Cryptocurrency Clusters (PCA K-Means)',\n",
    "    xlabel='PC1',\n",
    "    ylabel='PC2',\n",
    "    width=800,\n",
    "    height=500\n",
    ")"
   ]
  },
  {
   "cell_type": "markdown",
   "metadata": {},
   "source": [
    "### Visualize and Compare the Results\n",
    "\n",
    "In this section, you will visually analyze the cluster analysis results by contrasting the outcome with and without using the optimization techniques."
   ]
  },
  {
   "cell_type": "code",
   "execution_count": null,
   "metadata": {},
   "outputs": [],
   "source": [
    "# Composite plot to contrast the Elbow curves\n",
    "# Create a PCA model instance and set `n_components=3`\n",
    "pca = PCA(n_components=3)\n",
    "pca_data = pca.fit_transform(df_market_data_scaled)\n",
    "\n",
    "# Create a DataFrame with the PCA data\n",
    "pca_columns = ['PC1', 'PC2', 'PC3']\n",
    "df_market_data_pca = pd.DataFrame(data=pca_data, columns=pca_columns, index=df_market_data.index)\n",
    "\n",
    "# Create a list with the number of k-values from 1 to 11\n",
    "k_values = list(range(1, 12))\n",
    "\n",
    "# Create empty lists to store inertia values for both cases (with and without PCA)\n",
    "inertia_values_normal = []\n",
    "inertia_values_pca = []\n",
    "\n",
    "# Calculate inertia values for clustering without PCA\n",
    "for k in k_values:\n",
    "    kmeans_normal = KMeans(n_clusters=k)\n",
    "    kmeans_normal.fit(df_market_data_scaled)\n",
    "    inertia_values_normal.append(kmeans_normal.inertia_)\n",
    "\n",
    "# Calculate inertia values for clustering with PCA\n",
    "for k in k_values:\n",
    "    kmeans_pca = KMeans(n_clusters=k)\n",
    "    kmeans_pca.fit(df_market_data_pca)\n",
    "    inertia_values_pca.append(kmeans_pca.inertia_)\n",
    "\n",
    "# Plotting the composite elbow curve\n",
    "plt.figure(figsize=(12, 6))\n",
    "\n",
    "plt.subplot(1, 2, 1)\n",
    "plt.plot(k_values, inertia_values_normal, marker='o', linestyle='-', color='b')\n",
    "plt.xlabel('Number of clusters (k)')\n",
    "plt.ylabel('Inertia')\n",
    "plt.title('Elbow Method without PCA')\n",
    "\n",
    "plt.subplot(1, 2, 2)\n",
    "plt.plot(k_values, inertia_values_pca, marker='o', linestyle='-', color='r')\n",
    "plt.xlabel('Number of clusters (k)')\n",
    "plt.ylabel('Inertia')\n",
    "plt.title('Elbow Method with PCA')\n",
    "\n",
    "plt.tight_layout()\n",
    "plt.show()"
   ]
  },
  {
   "cell_type": "code",
   "execution_count": null,
   "metadata": {},
   "outputs": [],
   "source": [
    "# Composite plot to contrast the clusters\n",
    "# Perform clustering with the optimal k values and visualize the clusters for comparison\n",
    "best_k_normal = 5\n",
    "best_k_pca = 3\n",
    "\n",
    "# Clustering without PCA\n",
    "kmeans_normal = KMeans(n_clusters=best_k_normal)\n",
    "kmeans_normal.fit(df_market_data_scaled)\n",
    "df_market_data['Cluster_Normal'] = kmeans_normal.predict(df_market_data_scaled)\n",
    "\n",
    "# Clustering with PCA\n",
    "kmeans_pca = KMeans(n_clusters=best_k_pca)\n",
    "kmeans_pca.fit(df_market_data_pca)\n",
    "df_market_data['Cluster_PCA'] = kmeans_pca.predict(df_market_data_pca)\n",
    "\n",
    "# Plotting composite clusters using PCA components for comparison\n",
    "plt.figure(figsize=(12, 6))\n",
    "\n",
    "plt.subplot(1, 2, 1)\n",
    "plt.scatter(df_market_data['PC1'], df_market_data['PC2'], c=df_market_data['Cluster_Normal'], cmap='viridis')\n",
    "plt.title('Clusters without PCA')\n",
    "plt.xlabel('PC1')\n",
    "plt.ylabel('PC2')\n",
    "\n",
    "plt.subplot(1, 2, 2)\n",
    "plt.scatter(df_market_data['PC1'], df_market_data['PC2'], c=df_market_data['Cluster_PCA'], cmap='viridis')\n",
    "plt.title('Clusters with PCA')\n",
    "plt.xlabel('PC1')\n",
    "plt.ylabel('PC2')\n",
    "\n",
    "plt.tight_layout()\n",
    "plt.show()"
   ]
  },
  {
   "cell_type": "markdown",
   "metadata": {},
   "source": [
    "#### Answer the following question: \n",
    "\n",
    "  * **Question:** After visually analyzing the cluster analysis results, what is the impact of using fewer features to cluster the data using K-Means?\n",
    "\n",
    "  * **Answer:** \n",
    "  Reducing the number of features for K-Means clustering results in dimensionality reduction, potentially leading to alterations in the clustered results. When employing techniques like PCA to reduce feature dimensions, data information is compressed into fewer dimensions, potentially losing some of the original data's information. This loss can impact the clustering results, causing shifts in cluster boundaries or even affecting the distinction between different categories. Consequently, diminishing feature dimensions might involve a trade-off between retaining essential data information and lowering computational costs, thus potentially impacting the quality and interpretability of the clustering outcomes."
   ]
  }
 ],
 "metadata": {
  "kernelspec": {
   "display_name": "Python 3 (ipykernel)",
   "language": "python",
   "name": "python3"
  },
  "language_info": {
   "codemirror_mode": {
    "name": "ipython",
    "version": 3
   },
   "file_extension": ".py",
   "mimetype": "text/x-python",
   "name": "python",
   "nbconvert_exporter": "python",
   "pygments_lexer": "ipython3",
   "version": "3.9.7"
  },
  "nteract": {
   "version": "0.28.0"
  },
  "vscode": {
   "interpreter": {
    "hash": "40d3a090f54c6569ab1632332b64b2c03c39dcf918b08424e98f38b5ae0af88f"
   }
  }
 },
 "nbformat": 4,
 "nbformat_minor": 4
}
